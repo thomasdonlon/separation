{
 "cells": [
  {
   "cell_type": "markdown",
   "metadata": {},
   "source": [
    "# Milkyway@Home Separation Application Testing\n",
    "\n",
    "Tom Donlon, RPI (2019)"
   ]
  },
  {
   "cell_type": "markdown",
   "metadata": {},
   "source": [
    "## Introduction"
   ]
  },
  {
   "cell_type": "markdown",
   "metadata": {},
   "source": [
    "I'm guessing that if you're reading this file, you're already (too) deeply involved in the Separation Application project. If that is the case, best of luck. In case that is not the situation, I've written a quick introduction to the project in the following paragraph. \n",
    "\n",
    "The Milkyway@home Separation Application is a decade-long project that spans over at least 5 different graduate students. The main goal of the application is to develop an algorithm that will separate out streams and other substructure from a background. This is done typically using Main Sequence Turnoff Stars (MSTO) and specific stream and background models. These models are fit to the data through optimization on Milkyway@home using the BOINC client. Read Jake Weiss' (and Nate Cole's, Matthew Newby's) thesis for more specific information. \n",
    "\n",
    "The separation application has been confirmed to succeed in recreating hand-made data, encouraging confidence in the application. However, this handmade data is typically optimal situations, and streams are rarely placed in unfortunate positions or unfortunate orientations within the generated data. For example, we do not understand what happens when you attempt to fit 3 streams to a data set with 4 streams, or vice versa. We do not understand what the optimized data looks like when streams are placed on the boundaries of the wedge (whether in distance or ra/dec). We have not incorporated different levels of noise into the tests. There are many other situations that need to be explored in order to better systematically understand what the optimizer does and \"thinks\" during these simulations, and what the real data may actually look like given certain strange output scenarios from the separation application. \n",
    "\n",
    "For these reasons, I believe it would be beneficial to have a stringent testing routine take place, where many different facets of the algorithm and application are explored. This will enable us to look at output of the separation optimizations and better understand what the optimizer is \"saying\", instead of tweaking parameters and just hoping that the output becomes mroe intuitive (like we do right now). Clearly an intuitive understanding of the application can only be gained through observing edge cases of the application. "
   ]
  },
  {
   "cell_type": "markdown",
   "metadata": {},
   "source": [
    "## Methods"
   ]
  },
  {
   "cell_type": "markdown",
   "metadata": {},
   "source": [
    "Test wedges are generated using test_wedge_generator.py found at https://github.com/weissj3/Newby-tools. All of the required files can be found here as well. \n",
    "\n",
    "Test wedges are then optimized on the Milkyway@home server. \n",
    "\n",
    "Results are typically subjective and are open to interpretation. The goal is to develop an understanding of interpreting the optimizer's output with regards to intuition, not necessarily building an objective way of analyzing the application. Discussion and analysis of each test will be provided in each test's subsection."
   ]
  },
  {
   "cell_type": "markdown",
   "metadata": {},
   "source": [
    "## Bookkeeping"
   ]
  },
  {
   "cell_type": "markdown",
   "metadata": {},
   "source": [
    "This list of tests is not set in stone. Tests may be added or subtracted as the testing project evolves. Tests that have been sufficiently explored will be marked here as such. Descriptions and results of each series of tests are provided below. "
   ]
  },
  {
   "cell_type": "markdown",
   "metadata": {},
   "source": [
    "| Test | Run Names | Star Files | Parameter Files | Completed? |\n",
    "|----------|-------------:|--------:|--------:|--------:|\n",
    "| Underfitting # Streams | N/A | N/A | N/A | N |\n",
    "| Overfitting # Streams | N/A | N/A | N/A | N |\n",
    "| Streams on Edges | N/A | N/A | N/A | N |\n",
    "| Signal-to-Noise Limitations | N/A | N/A | N/A | N |"
   ]
  }
 ],
 "metadata": {
  "kernelspec": {
   "display_name": "Python 3",
   "language": "python",
   "name": "python3"
  },
  "language_info": {
   "codemirror_mode": {
    "name": "ipython",
    "version": 3
   },
   "file_extension": ".py",
   "mimetype": "text/x-python",
   "name": "python",
   "nbconvert_exporter": "python",
   "pygments_lexer": "ipython3",
   "version": "3.5.2"
  }
 },
 "nbformat": 4,
 "nbformat_minor": 2
}
